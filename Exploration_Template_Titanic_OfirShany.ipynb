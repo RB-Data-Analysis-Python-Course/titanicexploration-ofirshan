{
 "cells": [
  {
   "cell_type": "markdown",
   "id": "5290022f-83d2-4dd8-aa3c-c481d63f268d",
   "metadata": {},
   "source": [
    "## Intro"
   ]
  },
  {
   "cell_type": "markdown",
   "id": "137cb431-9216-41d1-a1d5-acfebfedb006",
   "metadata": {},
   "source": [
    "<div class=\"alert alert-success\">\n",
    "This section is up to you and not necessary. \n",
    "\n",
    "I would recommend specifing the date you have done the exploration.\n",
    "\n",
    "in addition you can specify possible problems and doubts regarding both your conclusions and the data itself in this section or in the Coclusions section. (such as biases in data, missing values, small number of samples to support some conclusion, etc)"
   ]
  },
  {
   "cell_type": "markdown",
   "id": "1c7edb86-09cb-4807-98e5-71095e3c7de4",
   "metadata": {},
   "source": [
    "## Conclusions"
   ]
  },
  {
   "cell_type": "markdown",
   "id": "9d0e95e3-a4ac-41b7-966d-e81cbc07a4dc",
   "metadata": {},
   "source": [
    "<div class=\"alert alert-success\">\n",
    "\n",
    "**A List of all of your conclusions from the Exploration**\n",
    "    \n",
    "No need to specify the actual tests and to explain why you have concluded these things. if the reader wants to deep dive into your tests he will be able to do so further down the notebook.\n",
    "\n",
    "having said that, **ALWAYS** specify possible problems and doubts regarding both your conclusions and the data itself in this section if they were not mentioned in the Intro! (such as biases in data, missing values, small number of samples to support some conclusion, etc)\n",
    "\n",
    "</div>"
   ]
  },
  {
   "cell_type": "markdown",
   "id": "dabd1072-6460-45ff-b8b0-9f7e52b4c118",
   "metadata": {},
   "source": [
    "1. ....\n",
    "2. ....\n",
    "\n"
   ]
  },
  {
   "cell_type": "markdown",
   "id": "445bd190-2247-4d82-939f-08a82fca0cf0",
   "metadata": {},
   "source": [
    "## Hypothesis & Tests"
   ]
  },
  {
   "cell_type": "markdown",
   "id": "3fd497ed-d0ca-4f61-9821-0d27dd028619",
   "metadata": {},
   "source": [
    "<div class=\"alert alert-success\">\n",
    "\n",
    "**This section is where you list out all your assumptions and the way you have tested them.**\n",
    "\n",
    "It serves both yourself and the reader:\n",
    "1. The reader - the reader that wants to understand how you have concluded the above conclusions without deep diving into your code.\n",
    "2. Yourself - It makes it very easy to organize your thoughts and make sure you have tested everything you thought is necessary.\n",
    "\n",
    "*Keep in mind:*\n",
    "1. Understand what the data really means in \"real life\"!!\n",
    "2. Missing values!\n",
    "3. Total number of samples\n",
    "4. Distribution of features\n",
    "5. Write down all the things you have checked even if they failed - the failure itself may mean allot.\n",
    "6. Duplicates!\n",
    "\n",
    "</div>"
   ]
  },
  {
   "cell_type": "markdown",
   "id": "9a170983-12e9-42cb-b560-5c5a1f4191dc",
   "metadata": {},
   "source": [
    "0. Get an overview of who survived. Isolate those who survived and randomly choose 30 cases.\n",
    "(re-formulated hypotheses after initial exploration)\n",
    "\n",
    "1. Hypothesis 1: Higher survival rates in females.\n",
    "    * test 1: explore the distribution of sex.\n",
    "    * test 2: compute percentage of surviving per sex. \n",
    "    * plot.\n",
    "2. Hypothesis 2: Higher survival rate for Southhampton embarkment relative to the 2 other stations (I know this turned out as wrong, but I'm mentioning this for didactical purposes).\n",
    "    * test 1: explore the distribution of embarkment stations.\n",
    "    * test 2: compute percentage of surviving embarkment station. \n",
    "    * plot.\n",
    "3. Hypothesis 3: Ticket classes are associated with survival rates. I assume that ticket classes are mapped onto specific locations on the ship, which were directly related to the ship's sinking patterns and thus to chances of surviving. \n",
    "    * test 1: explore the distribution of ticket class.\n",
    "    * test 2: compute percentage of surviving per ticket class. \n",
    "    * plot.\n",
    " \n",
    "4. Hypothesis 4: Older age is associated with decreased survival rates.\n",
    "    * test 1: explore the distrbution of age; should it be re-grouped into a few categories, each covering a different range?\n",
    "    * test 2: compute age stats (mean, median) under the two survival indices; if I turn age to a categorical variable, then\n",
    "      compute percentage of surviving per age range. \n",
    "    * plot.\n",
    "\n",
    "5. Hypothesis 5: Passengers who travelled alone are less likely to survive.\n",
    "    * test 1: explore the distribution of 'sibsp' and 'parch'.\n",
    "    * test 2: text correlation between 'sibsp' and 'parch'. If low - add a new variable based on their summation, \n",
    "      \"total_kin\".\n",
    "    * test 2: compute percentage of surviving for 'sibsp' and 'parch' (0 vs. >0).\n",
    "    * plot.\n",
    "\n",
    "6. Hypothesis 6: Males with families were less likely to survive (i.e. sex by 'sibsp' / 'parch' interaction).\n",
    "    * test 1: explore the distribution of sex and its combination with 'sibsp' and 'parch'.\n",
    "    * test 2: compute percentage of surviving for males and females with vs. without 'sibsp' and 'parch' (0 vs. >0).\n",
    "    * plot.\n"
   ]
  },
  {
   "cell_type": "markdown",
   "id": "132ef0ab-45b8-485a-b7d6-bedf328b0483",
   "metadata": {},
   "source": [
    "## Implementation"
   ]
  },
  {
   "cell_type": "markdown",
   "id": "d20a676b-5668-4a21-ac50-9c9dad2696ce",
   "metadata": {},
   "source": [
    "### Hypotheses 1-2:"
   ]
  },
  {
   "cell_type": "markdown",
   "id": "fd7b7b61-3fb8-4684-818e-8ecf99b89e6c",
   "metadata": {},
   "source": [
    "Description of test and the hypothesis:\n",
    "- Data overview.\n",
    "- Get an overview of survival.\n",
    "Results and conclusions:\n",
    "* Data overview:\n",
    "1) A lot of missing data for cabin. (still worth checking this later on; maybe all passengers in certain cabins drowned together).  \n",
    "2) ~180 missing cases for age. \n",
    "* Survival overview:\n",
    "1) Females seem to have survived more than men.\n",
    "2) Embarkation seems related to survival - I see more S than Q and C.\n",
    "* Exploration of the effects of sex and ebmarkment station on survival:\n",
    "1) Sex: Females clearly survived more than males.\n",
    "2) Embarkment:\n",
    "    - C > Q > S (C=55%, Q=39%, S=34%).\n",
    "    - However, sample sizes in C and Q are not very large (C=168, Q=77). It's ok in statistical terms, but no great; S's survival rate may fall within the CIs of C and Q given such small datasets.\n",
    "    - While C is highest, it gives information about surviving at a slightly above-chance rate. Is this relevant?\n",
    "    - S actually had the lowest survival rate. I initially saw a lot of S in the random surviving sample, but this was misleading since S has the highest proportion. Lesson learned: we should learn about the proportions of categories/sub-levels within a variable before exploring data, in order to avoid wrong inferences. "
   ]
  },
  {
   "cell_type": "code",
   "execution_count": 1,
   "id": "67a01b8e-e91e-4a83-976d-069159d64674",
   "metadata": {
    "scrolled": true
   },
   "outputs": [
    {
     "name": "stdout",
     "output_type": "stream",
     "text": [
      "         Survived      Pclass         Age       SibSp       Parch        Fare\n",
      "count  891.000000  891.000000  714.000000  891.000000  891.000000  891.000000\n",
      "mean     0.383838    2.308642   29.699118    0.523008    0.381594   32.204208\n",
      "std      0.486592    0.836071   14.526497    1.102743    0.806057   49.693429\n",
      "min      0.000000    1.000000    0.420000    0.000000    0.000000    0.000000\n",
      "25%      0.000000    2.000000   20.125000    0.000000    0.000000    7.910400\n",
      "50%      0.000000    3.000000   28.000000    0.000000    0.000000   14.454200\n",
      "75%      1.000000    3.000000   38.000000    1.000000    0.000000   31.000000\n",
      "max      1.000000    3.000000   80.000000    8.000000    6.000000  512.329200\n",
      "                                         Name   Sex    Ticket    Cabin  \\\n",
      "count                                     891   891       891      204   \n",
      "unique                                    891     2       681      147   \n",
      "top     Meyer, Mrs. Edgar Joseph (Leila Saks)  male  CA. 2343  B96 B98   \n",
      "freq                                        1   577         7        4   \n",
      "\n",
      "       Embarked  \n",
      "count       889  \n",
      "unique        3  \n",
      "top           S  \n",
      "freq        644  \n"
     ]
    }
   ],
   "source": [
    "# setup and get data:\n",
    "import numpy as np\n",
    "import pandas as pd\n",
    "pd.plotting.register_matplotlib_converters()\n",
    "import matplotlib.pyplot as plt\n",
    "%matplotlib inline\n",
    "import seaborn as sns\n",
    "\n",
    "titanic_df = pd.read_csv(\"train.csv\", index_col=\"PassengerId\")\n",
    "# data overview:\n",
    "# titanic_df.head(n=20)\n",
    "print(titanic_df.describe())\n",
    "print(titanic_df.describe(include=object))\n"
   ]
  },
  {
   "cell_type": "code",
   "execution_count": 2,
   "id": "ad0a8833-0012-4eac-b127-d6795984f1dc",
   "metadata": {},
   "outputs": [
    {
     "data": {
      "text/html": [
       "<div>\n",
       "<style scoped>\n",
       "    .dataframe tbody tr th:only-of-type {\n",
       "        vertical-align: middle;\n",
       "    }\n",
       "\n",
       "    .dataframe tbody tr th {\n",
       "        vertical-align: top;\n",
       "    }\n",
       "\n",
       "    .dataframe thead th {\n",
       "        text-align: right;\n",
       "    }\n",
       "</style>\n",
       "<table border=\"1\" class=\"dataframe\">\n",
       "  <thead>\n",
       "    <tr style=\"text-align: right;\">\n",
       "      <th></th>\n",
       "      <th>Survived</th>\n",
       "      <th>Pclass</th>\n",
       "      <th>Name</th>\n",
       "      <th>Sex</th>\n",
       "      <th>Age</th>\n",
       "      <th>SibSp</th>\n",
       "      <th>Parch</th>\n",
       "      <th>Ticket</th>\n",
       "      <th>Fare</th>\n",
       "      <th>Cabin</th>\n",
       "      <th>Embarked</th>\n",
       "    </tr>\n",
       "    <tr>\n",
       "      <th>PassengerId</th>\n",
       "      <th></th>\n",
       "      <th></th>\n",
       "      <th></th>\n",
       "      <th></th>\n",
       "      <th></th>\n",
       "      <th></th>\n",
       "      <th></th>\n",
       "      <th></th>\n",
       "      <th></th>\n",
       "      <th></th>\n",
       "      <th></th>\n",
       "    </tr>\n",
       "  </thead>\n",
       "  <tbody>\n",
       "    <tr>\n",
       "      <th>648</th>\n",
       "      <td>1</td>\n",
       "      <td>1</td>\n",
       "      <td>Simonius-Blumer, Col. Oberst Alfons</td>\n",
       "      <td>male</td>\n",
       "      <td>56.00</td>\n",
       "      <td>0</td>\n",
       "      <td>0</td>\n",
       "      <td>13213</td>\n",
       "      <td>35.5000</td>\n",
       "      <td>A26</td>\n",
       "      <td>C</td>\n",
       "    </tr>\n",
       "    <tr>\n",
       "      <th>272</th>\n",
       "      <td>1</td>\n",
       "      <td>3</td>\n",
       "      <td>Tornquist, Mr. William Henry</td>\n",
       "      <td>male</td>\n",
       "      <td>25.00</td>\n",
       "      <td>0</td>\n",
       "      <td>0</td>\n",
       "      <td>LINE</td>\n",
       "      <td>0.0000</td>\n",
       "      <td>NaN</td>\n",
       "      <td>S</td>\n",
       "    </tr>\n",
       "    <tr>\n",
       "      <th>291</th>\n",
       "      <td>1</td>\n",
       "      <td>1</td>\n",
       "      <td>Barber, Miss. Ellen \"Nellie\"</td>\n",
       "      <td>female</td>\n",
       "      <td>26.00</td>\n",
       "      <td>0</td>\n",
       "      <td>0</td>\n",
       "      <td>19877</td>\n",
       "      <td>78.8500</td>\n",
       "      <td>NaN</td>\n",
       "      <td>S</td>\n",
       "    </tr>\n",
       "    <tr>\n",
       "      <th>162</th>\n",
       "      <td>1</td>\n",
       "      <td>2</td>\n",
       "      <td>Watt, Mrs. James (Elizabeth \"Bessie\" Inglis Mi...</td>\n",
       "      <td>female</td>\n",
       "      <td>40.00</td>\n",
       "      <td>0</td>\n",
       "      <td>0</td>\n",
       "      <td>C.A. 33595</td>\n",
       "      <td>15.7500</td>\n",
       "      <td>NaN</td>\n",
       "      <td>S</td>\n",
       "    </tr>\n",
       "    <tr>\n",
       "      <th>249</th>\n",
       "      <td>1</td>\n",
       "      <td>1</td>\n",
       "      <td>Beckwith, Mr. Richard Leonard</td>\n",
       "      <td>male</td>\n",
       "      <td>37.00</td>\n",
       "      <td>1</td>\n",
       "      <td>1</td>\n",
       "      <td>11751</td>\n",
       "      <td>52.5542</td>\n",
       "      <td>D35</td>\n",
       "      <td>S</td>\n",
       "    </tr>\n",
       "    <tr>\n",
       "      <th>866</th>\n",
       "      <td>1</td>\n",
       "      <td>2</td>\n",
       "      <td>Bystrom, Mrs. (Karolina)</td>\n",
       "      <td>female</td>\n",
       "      <td>42.00</td>\n",
       "      <td>0</td>\n",
       "      <td>0</td>\n",
       "      <td>236852</td>\n",
       "      <td>13.0000</td>\n",
       "      <td>NaN</td>\n",
       "      <td>S</td>\n",
       "    </tr>\n",
       "    <tr>\n",
       "      <th>128</th>\n",
       "      <td>1</td>\n",
       "      <td>3</td>\n",
       "      <td>Madsen, Mr. Fridtjof Arne</td>\n",
       "      <td>male</td>\n",
       "      <td>24.00</td>\n",
       "      <td>0</td>\n",
       "      <td>0</td>\n",
       "      <td>C 17369</td>\n",
       "      <td>7.1417</td>\n",
       "      <td>NaN</td>\n",
       "      <td>S</td>\n",
       "    </tr>\n",
       "    <tr>\n",
       "      <th>839</th>\n",
       "      <td>1</td>\n",
       "      <td>3</td>\n",
       "      <td>Chip, Mr. Chang</td>\n",
       "      <td>male</td>\n",
       "      <td>32.00</td>\n",
       "      <td>0</td>\n",
       "      <td>0</td>\n",
       "      <td>1601</td>\n",
       "      <td>56.4958</td>\n",
       "      <td>NaN</td>\n",
       "      <td>S</td>\n",
       "    </tr>\n",
       "    <tr>\n",
       "      <th>586</th>\n",
       "      <td>1</td>\n",
       "      <td>1</td>\n",
       "      <td>Taussig, Miss. Ruth</td>\n",
       "      <td>female</td>\n",
       "      <td>18.00</td>\n",
       "      <td>0</td>\n",
       "      <td>2</td>\n",
       "      <td>110413</td>\n",
       "      <td>79.6500</td>\n",
       "      <td>E68</td>\n",
       "      <td>S</td>\n",
       "    </tr>\n",
       "    <tr>\n",
       "      <th>306</th>\n",
       "      <td>1</td>\n",
       "      <td>1</td>\n",
       "      <td>Allison, Master. Hudson Trevor</td>\n",
       "      <td>male</td>\n",
       "      <td>0.92</td>\n",
       "      <td>1</td>\n",
       "      <td>2</td>\n",
       "      <td>113781</td>\n",
       "      <td>151.5500</td>\n",
       "      <td>C22 C26</td>\n",
       "      <td>S</td>\n",
       "    </tr>\n",
       "    <tr>\n",
       "      <th>16</th>\n",
       "      <td>1</td>\n",
       "      <td>2</td>\n",
       "      <td>Hewlett, Mrs. (Mary D Kingcome)</td>\n",
       "      <td>female</td>\n",
       "      <td>55.00</td>\n",
       "      <td>0</td>\n",
       "      <td>0</td>\n",
       "      <td>248706</td>\n",
       "      <td>16.0000</td>\n",
       "      <td>NaN</td>\n",
       "      <td>S</td>\n",
       "    </tr>\n",
       "    <tr>\n",
       "      <th>748</th>\n",
       "      <td>1</td>\n",
       "      <td>2</td>\n",
       "      <td>Sinkkonen, Miss. Anna</td>\n",
       "      <td>female</td>\n",
       "      <td>30.00</td>\n",
       "      <td>0</td>\n",
       "      <td>0</td>\n",
       "      <td>250648</td>\n",
       "      <td>13.0000</td>\n",
       "      <td>NaN</td>\n",
       "      <td>S</td>\n",
       "    </tr>\n",
       "    <tr>\n",
       "      <th>447</th>\n",
       "      <td>1</td>\n",
       "      <td>2</td>\n",
       "      <td>Mellinger, Miss. Madeleine Violet</td>\n",
       "      <td>female</td>\n",
       "      <td>13.00</td>\n",
       "      <td>0</td>\n",
       "      <td>1</td>\n",
       "      <td>250644</td>\n",
       "      <td>19.5000</td>\n",
       "      <td>NaN</td>\n",
       "      <td>S</td>\n",
       "    </tr>\n",
       "    <tr>\n",
       "      <th>436</th>\n",
       "      <td>1</td>\n",
       "      <td>1</td>\n",
       "      <td>Carter, Miss. Lucile Polk</td>\n",
       "      <td>female</td>\n",
       "      <td>14.00</td>\n",
       "      <td>1</td>\n",
       "      <td>2</td>\n",
       "      <td>113760</td>\n",
       "      <td>120.0000</td>\n",
       "      <td>B96 B98</td>\n",
       "      <td>S</td>\n",
       "    </tr>\n",
       "    <tr>\n",
       "      <th>312</th>\n",
       "      <td>1</td>\n",
       "      <td>1</td>\n",
       "      <td>Ryerson, Miss. Emily Borie</td>\n",
       "      <td>female</td>\n",
       "      <td>18.00</td>\n",
       "      <td>2</td>\n",
       "      <td>2</td>\n",
       "      <td>PC 17608</td>\n",
       "      <td>262.3750</td>\n",
       "      <td>B57 B59 B63 B66</td>\n",
       "      <td>C</td>\n",
       "    </tr>\n",
       "    <tr>\n",
       "      <th>301</th>\n",
       "      <td>1</td>\n",
       "      <td>3</td>\n",
       "      <td>Kelly, Miss. Anna Katherine \"Annie Kate\"</td>\n",
       "      <td>female</td>\n",
       "      <td>NaN</td>\n",
       "      <td>0</td>\n",
       "      <td>0</td>\n",
       "      <td>9234</td>\n",
       "      <td>7.7500</td>\n",
       "      <td>NaN</td>\n",
       "      <td>Q</td>\n",
       "    </tr>\n",
       "    <tr>\n",
       "      <th>408</th>\n",
       "      <td>1</td>\n",
       "      <td>2</td>\n",
       "      <td>Richards, Master. William Rowe</td>\n",
       "      <td>male</td>\n",
       "      <td>3.00</td>\n",
       "      <td>1</td>\n",
       "      <td>1</td>\n",
       "      <td>29106</td>\n",
       "      <td>18.7500</td>\n",
       "      <td>NaN</td>\n",
       "      <td>S</td>\n",
       "    </tr>\n",
       "    <tr>\n",
       "      <th>461</th>\n",
       "      <td>1</td>\n",
       "      <td>1</td>\n",
       "      <td>Anderson, Mr. Harry</td>\n",
       "      <td>male</td>\n",
       "      <td>48.00</td>\n",
       "      <td>0</td>\n",
       "      <td>0</td>\n",
       "      <td>19952</td>\n",
       "      <td>26.5500</td>\n",
       "      <td>E12</td>\n",
       "      <td>S</td>\n",
       "    </tr>\n",
       "    <tr>\n",
       "      <th>484</th>\n",
       "      <td>1</td>\n",
       "      <td>3</td>\n",
       "      <td>Turkula, Mrs. (Hedwig)</td>\n",
       "      <td>female</td>\n",
       "      <td>63.00</td>\n",
       "      <td>0</td>\n",
       "      <td>0</td>\n",
       "      <td>4134</td>\n",
       "      <td>9.5875</td>\n",
       "      <td>NaN</td>\n",
       "      <td>S</td>\n",
       "    </tr>\n",
       "    <tr>\n",
       "      <th>578</th>\n",
       "      <td>1</td>\n",
       "      <td>1</td>\n",
       "      <td>Silvey, Mrs. William Baird (Alice Munger)</td>\n",
       "      <td>female</td>\n",
       "      <td>39.00</td>\n",
       "      <td>1</td>\n",
       "      <td>0</td>\n",
       "      <td>13507</td>\n",
       "      <td>55.9000</td>\n",
       "      <td>E44</td>\n",
       "      <td>S</td>\n",
       "    </tr>\n",
       "    <tr>\n",
       "      <th>781</th>\n",
       "      <td>1</td>\n",
       "      <td>3</td>\n",
       "      <td>Ayoub, Miss. Banoura</td>\n",
       "      <td>female</td>\n",
       "      <td>13.00</td>\n",
       "      <td>0</td>\n",
       "      <td>0</td>\n",
       "      <td>2687</td>\n",
       "      <td>7.2292</td>\n",
       "      <td>NaN</td>\n",
       "      <td>C</td>\n",
       "    </tr>\n",
       "    <tr>\n",
       "      <th>349</th>\n",
       "      <td>1</td>\n",
       "      <td>3</td>\n",
       "      <td>Coutts, Master. William Loch \"William\"</td>\n",
       "      <td>male</td>\n",
       "      <td>3.00</td>\n",
       "      <td>1</td>\n",
       "      <td>1</td>\n",
       "      <td>C.A. 37671</td>\n",
       "      <td>15.9000</td>\n",
       "      <td>NaN</td>\n",
       "      <td>S</td>\n",
       "    </tr>\n",
       "    <tr>\n",
       "      <th>48</th>\n",
       "      <td>1</td>\n",
       "      <td>3</td>\n",
       "      <td>O'Driscoll, Miss. Bridget</td>\n",
       "      <td>female</td>\n",
       "      <td>NaN</td>\n",
       "      <td>0</td>\n",
       "      <td>0</td>\n",
       "      <td>14311</td>\n",
       "      <td>7.7500</td>\n",
       "      <td>NaN</td>\n",
       "      <td>Q</td>\n",
       "    </tr>\n",
       "    <tr>\n",
       "      <th>517</th>\n",
       "      <td>1</td>\n",
       "      <td>2</td>\n",
       "      <td>Lemore, Mrs. (Amelia Milley)</td>\n",
       "      <td>female</td>\n",
       "      <td>34.00</td>\n",
       "      <td>0</td>\n",
       "      <td>0</td>\n",
       "      <td>C.A. 34260</td>\n",
       "      <td>10.5000</td>\n",
       "      <td>F33</td>\n",
       "      <td>S</td>\n",
       "    </tr>\n",
       "    <tr>\n",
       "      <th>441</th>\n",
       "      <td>1</td>\n",
       "      <td>2</td>\n",
       "      <td>Hart, Mrs. Benjamin (Esther Ada Bloomfield)</td>\n",
       "      <td>female</td>\n",
       "      <td>45.00</td>\n",
       "      <td>1</td>\n",
       "      <td>1</td>\n",
       "      <td>F.C.C. 13529</td>\n",
       "      <td>26.2500</td>\n",
       "      <td>NaN</td>\n",
       "      <td>S</td>\n",
       "    </tr>\n",
       "    <tr>\n",
       "      <th>191</th>\n",
       "      <td>1</td>\n",
       "      <td>2</td>\n",
       "      <td>Pinsky, Mrs. (Rosa)</td>\n",
       "      <td>female</td>\n",
       "      <td>32.00</td>\n",
       "      <td>0</td>\n",
       "      <td>0</td>\n",
       "      <td>234604</td>\n",
       "      <td>13.0000</td>\n",
       "      <td>NaN</td>\n",
       "      <td>S</td>\n",
       "    </tr>\n",
       "    <tr>\n",
       "      <th>185</th>\n",
       "      <td>1</td>\n",
       "      <td>3</td>\n",
       "      <td>Kink-Heilmann, Miss. Luise Gretchen</td>\n",
       "      <td>female</td>\n",
       "      <td>4.00</td>\n",
       "      <td>0</td>\n",
       "      <td>2</td>\n",
       "      <td>315153</td>\n",
       "      <td>22.0250</td>\n",
       "      <td>NaN</td>\n",
       "      <td>S</td>\n",
       "    </tr>\n",
       "    <tr>\n",
       "      <th>326</th>\n",
       "      <td>1</td>\n",
       "      <td>1</td>\n",
       "      <td>Young, Miss. Marie Grice</td>\n",
       "      <td>female</td>\n",
       "      <td>36.00</td>\n",
       "      <td>0</td>\n",
       "      <td>0</td>\n",
       "      <td>PC 17760</td>\n",
       "      <td>135.6333</td>\n",
       "      <td>C32</td>\n",
       "      <td>C</td>\n",
       "    </tr>\n",
       "    <tr>\n",
       "      <th>810</th>\n",
       "      <td>1</td>\n",
       "      <td>1</td>\n",
       "      <td>Chambers, Mrs. Norman Campbell (Bertha Griggs)</td>\n",
       "      <td>female</td>\n",
       "      <td>33.00</td>\n",
       "      <td>1</td>\n",
       "      <td>0</td>\n",
       "      <td>113806</td>\n",
       "      <td>53.1000</td>\n",
       "      <td>E8</td>\n",
       "      <td>S</td>\n",
       "    </tr>\n",
       "    <tr>\n",
       "      <th>854</th>\n",
       "      <td>1</td>\n",
       "      <td>1</td>\n",
       "      <td>Lines, Miss. Mary Conover</td>\n",
       "      <td>female</td>\n",
       "      <td>16.00</td>\n",
       "      <td>0</td>\n",
       "      <td>1</td>\n",
       "      <td>PC 17592</td>\n",
       "      <td>39.4000</td>\n",
       "      <td>D28</td>\n",
       "      <td>S</td>\n",
       "    </tr>\n",
       "  </tbody>\n",
       "</table>\n",
       "</div>"
      ],
      "text/plain": [
       "             Survived  Pclass  \\\n",
       "PassengerId                     \n",
       "648                 1       1   \n",
       "272                 1       3   \n",
       "291                 1       1   \n",
       "162                 1       2   \n",
       "249                 1       1   \n",
       "866                 1       2   \n",
       "128                 1       3   \n",
       "839                 1       3   \n",
       "586                 1       1   \n",
       "306                 1       1   \n",
       "16                  1       2   \n",
       "748                 1       2   \n",
       "447                 1       2   \n",
       "436                 1       1   \n",
       "312                 1       1   \n",
       "301                 1       3   \n",
       "408                 1       2   \n",
       "461                 1       1   \n",
       "484                 1       3   \n",
       "578                 1       1   \n",
       "781                 1       3   \n",
       "349                 1       3   \n",
       "48                  1       3   \n",
       "517                 1       2   \n",
       "441                 1       2   \n",
       "191                 1       2   \n",
       "185                 1       3   \n",
       "326                 1       1   \n",
       "810                 1       1   \n",
       "854                 1       1   \n",
       "\n",
       "                                                          Name     Sex    Age  \\\n",
       "PassengerId                                                                     \n",
       "648                        Simonius-Blumer, Col. Oberst Alfons    male  56.00   \n",
       "272                               Tornquist, Mr. William Henry    male  25.00   \n",
       "291                               Barber, Miss. Ellen \"Nellie\"  female  26.00   \n",
       "162          Watt, Mrs. James (Elizabeth \"Bessie\" Inglis Mi...  female  40.00   \n",
       "249                              Beckwith, Mr. Richard Leonard    male  37.00   \n",
       "866                                   Bystrom, Mrs. (Karolina)  female  42.00   \n",
       "128                                  Madsen, Mr. Fridtjof Arne    male  24.00   \n",
       "839                                            Chip, Mr. Chang    male  32.00   \n",
       "586                                        Taussig, Miss. Ruth  female  18.00   \n",
       "306                             Allison, Master. Hudson Trevor    male   0.92   \n",
       "16                            Hewlett, Mrs. (Mary D Kingcome)   female  55.00   \n",
       "748                                      Sinkkonen, Miss. Anna  female  30.00   \n",
       "447                          Mellinger, Miss. Madeleine Violet  female  13.00   \n",
       "436                                  Carter, Miss. Lucile Polk  female  14.00   \n",
       "312                                 Ryerson, Miss. Emily Borie  female  18.00   \n",
       "301                   Kelly, Miss. Anna Katherine \"Annie Kate\"  female    NaN   \n",
       "408                             Richards, Master. William Rowe    male   3.00   \n",
       "461                                        Anderson, Mr. Harry    male  48.00   \n",
       "484                                     Turkula, Mrs. (Hedwig)  female  63.00   \n",
       "578                  Silvey, Mrs. William Baird (Alice Munger)  female  39.00   \n",
       "781                                       Ayoub, Miss. Banoura  female  13.00   \n",
       "349                     Coutts, Master. William Loch \"William\"    male   3.00   \n",
       "48                                   O'Driscoll, Miss. Bridget  female    NaN   \n",
       "517                               Lemore, Mrs. (Amelia Milley)  female  34.00   \n",
       "441                Hart, Mrs. Benjamin (Esther Ada Bloomfield)  female  45.00   \n",
       "191                                        Pinsky, Mrs. (Rosa)  female  32.00   \n",
       "185                        Kink-Heilmann, Miss. Luise Gretchen  female   4.00   \n",
       "326                                   Young, Miss. Marie Grice  female  36.00   \n",
       "810             Chambers, Mrs. Norman Campbell (Bertha Griggs)  female  33.00   \n",
       "854                                  Lines, Miss. Mary Conover  female  16.00   \n",
       "\n",
       "             SibSp  Parch        Ticket      Fare            Cabin Embarked  \n",
       "PassengerId                                                                  \n",
       "648              0      0         13213   35.5000              A26        C  \n",
       "272              0      0          LINE    0.0000              NaN        S  \n",
       "291              0      0         19877   78.8500              NaN        S  \n",
       "162              0      0    C.A. 33595   15.7500              NaN        S  \n",
       "249              1      1         11751   52.5542              D35        S  \n",
       "866              0      0        236852   13.0000              NaN        S  \n",
       "128              0      0       C 17369    7.1417              NaN        S  \n",
       "839              0      0          1601   56.4958              NaN        S  \n",
       "586              0      2        110413   79.6500              E68        S  \n",
       "306              1      2        113781  151.5500          C22 C26        S  \n",
       "16               0      0        248706   16.0000              NaN        S  \n",
       "748              0      0        250648   13.0000              NaN        S  \n",
       "447              0      1        250644   19.5000              NaN        S  \n",
       "436              1      2        113760  120.0000          B96 B98        S  \n",
       "312              2      2      PC 17608  262.3750  B57 B59 B63 B66        C  \n",
       "301              0      0          9234    7.7500              NaN        Q  \n",
       "408              1      1         29106   18.7500              NaN        S  \n",
       "461              0      0         19952   26.5500              E12        S  \n",
       "484              0      0          4134    9.5875              NaN        S  \n",
       "578              1      0         13507   55.9000              E44        S  \n",
       "781              0      0          2687    7.2292              NaN        C  \n",
       "349              1      1    C.A. 37671   15.9000              NaN        S  \n",
       "48               0      0         14311    7.7500              NaN        Q  \n",
       "517              0      0    C.A. 34260   10.5000              F33        S  \n",
       "441              1      1  F.C.C. 13529   26.2500              NaN        S  \n",
       "191              0      0        234604   13.0000              NaN        S  \n",
       "185              0      2        315153   22.0250              NaN        S  \n",
       "326              0      0      PC 17760  135.6333              C32        C  \n",
       "810              1      0        113806   53.1000               E8        S  \n",
       "854              0      1      PC 17592   39.4000              D28        S  "
      ]
     },
     "execution_count": 2,
     "metadata": {},
     "output_type": "execute_result"
    }
   ],
   "source": [
    "# survival overview: \n",
    "titanic_df[titanic_df['Survived'] == 1].sample(n=30)"
   ]
  },
  {
   "cell_type": "code",
   "execution_count": 3,
   "id": "58c33411",
   "metadata": {},
   "outputs": [
    {
     "data": {
      "text/plain": [
       "male      577\n",
       "female    314\n",
       "Name: Sex, dtype: int64"
      ]
     },
     "execution_count": 3,
     "metadata": {},
     "output_type": "execute_result"
    }
   ],
   "source": [
    "titanic_df[\"Sex\"].value_counts()"
   ]
  },
  {
   "cell_type": "code",
   "execution_count": 4,
   "id": "7ee68d09-aefa-4e56-922e-1158d419aa63",
   "metadata": {
    "scrolled": true
   },
   "outputs": [
    {
     "data": {
      "text/html": [
       "<div>\n",
       "<style scoped>\n",
       "    .dataframe tbody tr th:only-of-type {\n",
       "        vertical-align: middle;\n",
       "    }\n",
       "\n",
       "    .dataframe tbody tr th {\n",
       "        vertical-align: top;\n",
       "    }\n",
       "\n",
       "    .dataframe thead th {\n",
       "        text-align: right;\n",
       "    }\n",
       "</style>\n",
       "<table border=\"1\" class=\"dataframe\">\n",
       "  <thead>\n",
       "    <tr style=\"text-align: right;\">\n",
       "      <th></th>\n",
       "      <th>Survived</th>\n",
       "    </tr>\n",
       "    <tr>\n",
       "      <th>Sex</th>\n",
       "      <th></th>\n",
       "    </tr>\n",
       "  </thead>\n",
       "  <tbody>\n",
       "    <tr>\n",
       "      <th>female</th>\n",
       "      <td>0.742038</td>\n",
       "    </tr>\n",
       "    <tr>\n",
       "      <th>male</th>\n",
       "      <td>0.188908</td>\n",
       "    </tr>\n",
       "  </tbody>\n",
       "</table>\n",
       "</div>"
      ],
      "text/plain": [
       "        Survived\n",
       "Sex             \n",
       "female  0.742038\n",
       "male    0.188908"
      ]
     },
     "execution_count": 4,
     "metadata": {},
     "output_type": "execute_result"
    }
   ],
   "source": [
    "titanic_df.pivot_table(values=\"Survived\", index=\"Sex\", aggfunc='mean')"
   ]
  },
  {
   "cell_type": "code",
   "execution_count": 5,
   "id": "ba1027ff",
   "metadata": {
    "scrolled": false
   },
   "outputs": [
    {
     "data": {
      "text/plain": [
       "Text(0, 0.5, 'Survival Rate')"
      ]
     },
     "execution_count": 5,
     "metadata": {},
     "output_type": "execute_result"
    },
    {
     "data": {
      "image/png": "[encoded data removed]",
      "text/plain": [
       "<Figure size 432x288 with 1 Axes>"
      ]
     },
     "metadata": {
      "needs_background": "light"
     },
     "output_type": "display_data"
    }
   ],
   "source": [
    "sns.barplot(x=titanic_df[\"Sex\"], y=titanic_df[\"Survived\"], ci=None)\n",
    "plt.ylabel(\"Survival Rate\")"
   ]
  },
  {
   "cell_type": "code",
   "execution_count": 6,
   "id": "74cf71eb",
   "metadata": {
    "scrolled": true
   },
   "outputs": [
    {
     "data": {
      "text/plain": [
       "S    644\n",
       "C    168\n",
       "Q     77\n",
       "Name: Embarked, dtype: int64"
      ]
     },
     "execution_count": 6,
     "metadata": {},
     "output_type": "execute_result"
    }
   ],
   "source": [
    "titanic_df[\"Embarked\"].value_counts()"
   ]
  },
  {
   "cell_type": "code",
   "execution_count": 7,
   "id": "c711f591",
   "metadata": {},
   "outputs": [
    {
     "data": {
      "text/html": [
       "<div>\n",
       "<style scoped>\n",
       "    .dataframe tbody tr th:only-of-type {\n",
       "        vertical-align: middle;\n",
       "    }\n",
       "\n",
       "    .dataframe tbody tr th {\n",
       "        vertical-align: top;\n",
       "    }\n",
       "\n",
       "    .dataframe thead th {\n",
       "        text-align: right;\n",
       "    }\n",
       "</style>\n",
       "<table border=\"1\" class=\"dataframe\">\n",
       "  <thead>\n",
       "    <tr style=\"text-align: right;\">\n",
       "      <th></th>\n",
       "      <th>Survived</th>\n",
       "    </tr>\n",
       "    <tr>\n",
       "      <th>Embarked</th>\n",
       "      <th></th>\n",
       "    </tr>\n",
       "  </thead>\n",
       "  <tbody>\n",
       "    <tr>\n",
       "      <th>C</th>\n",
       "      <td>0.553571</td>\n",
       "    </tr>\n",
       "    <tr>\n",
       "      <th>Q</th>\n",
       "      <td>0.389610</td>\n",
       "    </tr>\n",
       "    <tr>\n",
       "      <th>S</th>\n",
       "      <td>0.336957</td>\n",
       "    </tr>\n",
       "  </tbody>\n",
       "</table>\n",
       "</div>"
      ],
      "text/plain": [
       "          Survived\n",
       "Embarked          \n",
       "C         0.553571\n",
       "Q         0.389610\n",
       "S         0.336957"
      ]
     },
     "execution_count": 7,
     "metadata": {},
     "output_type": "execute_result"
    }
   ],
   "source": [
    "titanic_df.pivot_table(values=\"Survived\", index=\"Embarked\", aggfunc='mean')"
   ]
  },
  {
   "cell_type": "markdown",
   "id": "b385df32",
   "metadata": {},
   "source": [
    "### Hypothesis 3:"
   ]
  },
  {
   "cell_type": "markdown",
   "id": "6bd8209b-86a2-4b1a-92b7-dc30ee43e3a9",
   "metadata": {},
   "source": [
    "Description of test and the hypothesis:\n",
    "- Ticket class and survival rate.\n",
    "\n",
    "Results and conclusions:\n",
    "1) Effect of ticket class on survival rate: 1 > 2 > 3 (1=63%, 2=47%, 3=24%)."
   ]
  },
  {
   "cell_type": "code",
   "execution_count": 8,
   "id": "416b924a-40b7-4e8a-b435-dd57be3d1b05",
   "metadata": {
    "scrolled": true
   },
   "outputs": [
    {
     "data": {
      "text/plain": [
       "3    491\n",
       "1    216\n",
       "2    184\n",
       "Name: Pclass, dtype: int64"
      ]
     },
     "execution_count": 8,
     "metadata": {},
     "output_type": "execute_result"
    }
   ],
   "source": [
    "titanic_df.Pclass.value_counts()"
   ]
  },
  {
   "cell_type": "code",
   "execution_count": 9,
   "id": "b775b02c",
   "metadata": {},
   "outputs": [
    {
     "data": {
      "text/html": [
       "<div>\n",
       "<style scoped>\n",
       "    .dataframe tbody tr th:only-of-type {\n",
       "        vertical-align: middle;\n",
       "    }\n",
       "\n",
       "    .dataframe tbody tr th {\n",
       "        vertical-align: top;\n",
       "    }\n",
       "\n",
       "    .dataframe thead th {\n",
       "        text-align: right;\n",
       "    }\n",
       "</style>\n",
       "<table border=\"1\" class=\"dataframe\">\n",
       "  <thead>\n",
       "    <tr style=\"text-align: right;\">\n",
       "      <th></th>\n",
       "      <th>Survived</th>\n",
       "    </tr>\n",
       "    <tr>\n",
       "      <th>Pclass</th>\n",
       "      <th></th>\n",
       "    </tr>\n",
       "  </thead>\n",
       "  <tbody>\n",
       "    <tr>\n",
       "      <th>1</th>\n",
       "      <td>0.629630</td>\n",
       "    </tr>\n",
       "    <tr>\n",
       "      <th>2</th>\n",
       "      <td>0.472826</td>\n",
       "    </tr>\n",
       "    <tr>\n",
       "      <th>3</th>\n",
       "      <td>0.242363</td>\n",
       "    </tr>\n",
       "  </tbody>\n",
       "</table>\n",
       "</div>"
      ],
      "text/plain": [
       "        Survived\n",
       "Pclass          \n",
       "1       0.629630\n",
       "2       0.472826\n",
       "3       0.242363"
      ]
     },
     "execution_count": 9,
     "metadata": {},
     "output_type": "execute_result"
    }
   ],
   "source": [
    "titanic_df.pivot_table(values=\"Survived\", index=\"Pclass\", aggfunc='mean')"
   ]
  },
  {
   "cell_type": "markdown",
   "id": "2d219732-e87e-4b1b-a674-ff53cff1393d",
   "metadata": {},
   "source": [
    "### Hypothesis 4:"
   ]
  },
  {
   "cell_type": "markdown",
   "id": "daaf28c9-eb11-4715-b8eb-7b4c89fa93d9",
   "metadata": {},
   "source": [
    "Description of test and the hypothesis:\n",
    "- Older age and lower survival rate.\n",
    "Results and conclusions:\n",
    "1) After exploring age and its correlation with survival, I decided to split age into 4 groups: toddler, kid-teen, young adult, adult & old (0-5, 6-15, 16-30, 31-63, >=64 respectively).\n",
    "2) Toddlers had the highest survival rates (70%) and old people had the lowest (7.7%).\n",
    "3) Not sure why young adults and audlts didn't differ as strongly as I thought the histogram suggested they did.\n",
    "4) Suggest to focus on age<=15 and age>=64 as an important cut=off scores.\n",
    "5) However, there's also a linear trend between age and survival rate, so I'm not completely sure how to treat this variable.\n",
    "6) Note that there aren't enough samples from the \"old\" age group (n=14), so treat with caution.\n"
   ]
  },
  {
   "cell_type": "code",
   "execution_count": 10,
   "id": "4091a4f4",
   "metadata": {
    "scrolled": true
   },
   "outputs": [
    {
     "data": {
      "text/plain": [
       "<AxesSubplot:xlabel='Age', ylabel='Count'>"
      ]
     },
     "execution_count": 10,
     "metadata": {},
     "output_type": "execute_result"
    },
    {
     "data": {
      "image/png": "[encoded data removed]",
      "text/plain": [
       "<Figure size 432x288 with 1 Axes>"
      ]
     },
     "metadata": {
      "needs_background": "light"
     },
     "output_type": "display_data"
    }
   ],
   "source": [
    "# Age is a continuous variable, lets check its histogram first: \n",
    "sns.histplot(titanic_df.Age)"
   ]
  },
  {
   "cell_type": "code",
   "execution_count": 11,
   "id": "2307f6ce",
   "metadata": {
    "scrolled": true
   },
   "outputs": [
    {
     "data": {
      "text/plain": [
       "<AxesSubplot:xlabel='Age', ylabel='Count'>"
      ]
     },
     "execution_count": 11,
     "metadata": {},
     "output_type": "execute_result"
    },
    {
     "data": {
      "image/png": "[encoded data removed]",
      "text/plain": [
       "<Figure size 432x288 with 1 Axes>"
      ]
     },
     "metadata": {
      "needs_background": "light"
     },
     "output_type": "display_data"
    }
   ],
   "source": [
    "    sns.histplot(data=titanic_df, x='Age', hue='Survived', binwidth=5)"
   ]
  },
  {
   "cell_type": "code",
   "execution_count": 12,
   "id": "29588021",
   "metadata": {},
   "outputs": [
    {
     "data": {
      "image/png": "[encoded data removed]",
      "text/plain": [
       "<Figure size 360x360 with 1 Axes>"
      ]
     },
     "metadata": {
      "needs_background": "light"
     },
     "output_type": "display_data"
    }
   ],
   "source": [
    "sns.lmplot(x=\"Age\", y=\"Survived\", data=titanic_df,\n",
    "          logistic=True, y_jitter=.03);"
   ]
  },
  {
   "cell_type": "code",
   "execution_count": 13,
   "id": "6d5c2aef",
   "metadata": {
    "scrolled": true
   },
   "outputs": [
    {
     "data": {
      "text/html": [
       "<div>\n",
       "<style scoped>\n",
       "    .dataframe tbody tr th:only-of-type {\n",
       "        vertical-align: middle;\n",
       "    }\n",
       "\n",
       "    .dataframe tbody tr th {\n",
       "        vertical-align: top;\n",
       "    }\n",
       "\n",
       "    .dataframe thead th {\n",
       "        text-align: right;\n",
       "    }\n",
       "</style>\n",
       "<table border=\"1\" class=\"dataframe\">\n",
       "  <thead>\n",
       "    <tr style=\"text-align: right;\">\n",
       "      <th></th>\n",
       "      <th>Age</th>\n",
       "    </tr>\n",
       "    <tr>\n",
       "      <th>Survived</th>\n",
       "      <th></th>\n",
       "    </tr>\n",
       "  </thead>\n",
       "  <tbody>\n",
       "    <tr>\n",
       "      <th>0</th>\n",
       "      <td>30.626179</td>\n",
       "    </tr>\n",
       "    <tr>\n",
       "      <th>1</th>\n",
       "      <td>28.343690</td>\n",
       "    </tr>\n",
       "  </tbody>\n",
       "</table>\n",
       "</div>"
      ],
      "text/plain": [
       "                Age\n",
       "Survived           \n",
       "0         30.626179\n",
       "1         28.343690"
      ]
     },
     "execution_count": 13,
     "metadata": {},
     "output_type": "execute_result"
    }
   ],
   "source": [
    "titanic_df.pivot_table(values=\"Age\", index=\"Survived\", aggfunc='mean')"
   ]
  },
  {
   "cell_type": "code",
   "execution_count": 85,
   "id": "f642a04e",
   "metadata": {},
   "outputs": [],
   "source": [
    "# possible age ranges: 0-15, 16-30, 31-80 \n",
    "def age_cat(row):\n",
    "    curr_row = row[4]\n",
    "    if curr_row <= 5:\n",
    "        return \"toddler\"\n",
    "    elif 5 < curr_row <= 15:\n",
    "        return \"kid-teen\"\n",
    "    elif 15 < curr_row <= 30:\n",
    "        return \"young adult\"\n",
    "    elif 30 < curr_row <= 63: \n",
    "        return \"adult\"\n",
    "    elif curr_row > 63:\n",
    "        return \"old\""
   ]
  },
  {
   "cell_type": "code",
   "execution_count": 86,
   "id": "d1a6aa16",
   "metadata": {
    "scrolled": true
   },
   "outputs": [
    {
     "data": {
      "text/html": [
       "<div>\n",
       "<style scoped>\n",
       "    .dataframe tbody tr th:only-of-type {\n",
       "        vertical-align: middle;\n",
       "    }\n",
       "\n",
       "    .dataframe tbody tr th {\n",
       "        vertical-align: top;\n",
       "    }\n",
       "\n",
       "    .dataframe thead th {\n",
       "        text-align: right;\n",
       "    }\n",
       "</style>\n",
       "<table border=\"1\" class=\"dataframe\">\n",
       "  <thead>\n",
       "    <tr style=\"text-align: right;\">\n",
       "      <th></th>\n",
       "      <th>Survived</th>\n",
       "      <th>Pclass</th>\n",
       "      <th>Name</th>\n",
       "      <th>Sex</th>\n",
       "      <th>Age</th>\n",
       "      <th>SibSp</th>\n",
       "      <th>Parch</th>\n",
       "      <th>Ticket</th>\n",
       "      <th>Fare</th>\n",
       "      <th>Cabin</th>\n",
       "      <th>Embarked</th>\n",
       "      <th>Age group</th>\n",
       "    </tr>\n",
       "    <tr>\n",
       "      <th>PassengerId</th>\n",
       "      <th></th>\n",
       "      <th></th>\n",
       "      <th></th>\n",
       "      <th></th>\n",
       "      <th></th>\n",
       "      <th></th>\n",
       "      <th></th>\n",
       "      <th></th>\n",
       "      <th></th>\n",
       "      <th></th>\n",
       "      <th></th>\n",
       "      <th></th>\n",
       "    </tr>\n",
       "  </thead>\n",
       "  <tbody>\n",
       "    <tr>\n",
       "      <th>1</th>\n",
       "      <td>0</td>\n",
       "      <td>3</td>\n",
       "      <td>Braund, Mr. Owen Harris</td>\n",
       "      <td>male</td>\n",
       "      <td>22.0</td>\n",
       "      <td>1</td>\n",
       "      <td>0</td>\n",
       "      <td>A/5 21171</td>\n",
       "      <td>7.2500</td>\n",
       "      <td>NaN</td>\n",
       "      <td>S</td>\n",
       "      <td>young adult</td>\n",
       "    </tr>\n",
       "    <tr>\n",
       "      <th>2</th>\n",
       "      <td>1</td>\n",
       "      <td>1</td>\n",
       "      <td>Cumings, Mrs. John Bradley (Florence Briggs Th...</td>\n",
       "      <td>female</td>\n",
       "      <td>38.0</td>\n",
       "      <td>1</td>\n",
       "      <td>0</td>\n",
       "      <td>PC 17599</td>\n",
       "      <td>71.2833</td>\n",
       "      <td>C85</td>\n",
       "      <td>C</td>\n",
       "      <td>adult</td>\n",
       "    </tr>\n",
       "    <tr>\n",
       "      <th>3</th>\n",
       "      <td>1</td>\n",
       "      <td>3</td>\n",
       "      <td>Heikkinen, Miss. Laina</td>\n",
       "      <td>female</td>\n",
       "      <td>26.0</td>\n",
       "      <td>0</td>\n",
       "      <td>0</td>\n",
       "      <td>STON/O2. 3101282</td>\n",
       "      <td>7.9250</td>\n",
       "      <td>NaN</td>\n",
       "      <td>S</td>\n",
       "      <td>young adult</td>\n",
       "    </tr>\n",
       "    <tr>\n",
       "      <th>4</th>\n",
       "      <td>1</td>\n",
       "      <td>1</td>\n",
       "      <td>Futrelle, Mrs. Jacques Heath (Lily May Peel)</td>\n",
       "      <td>female</td>\n",
       "      <td>35.0</td>\n",
       "      <td>1</td>\n",
       "      <td>0</td>\n",
       "      <td>113803</td>\n",
       "      <td>53.1000</td>\n",
       "      <td>C123</td>\n",
       "      <td>S</td>\n",
       "      <td>adult</td>\n",
       "    </tr>\n",
       "    <tr>\n",
       "      <th>5</th>\n",
       "      <td>0</td>\n",
       "      <td>3</td>\n",
       "      <td>Allen, Mr. William Henry</td>\n",
       "      <td>male</td>\n",
       "      <td>35.0</td>\n",
       "      <td>0</td>\n",
       "      <td>0</td>\n",
       "      <td>373450</td>\n",
       "      <td>8.0500</td>\n",
       "      <td>NaN</td>\n",
       "      <td>S</td>\n",
       "      <td>adult</td>\n",
       "    </tr>\n",
       "  </tbody>\n",
       "</table>\n",
       "</div>"
      ],
      "text/plain": [
       "             Survived  Pclass  \\\n",
       "PassengerId                     \n",
       "1                   0       3   \n",
       "2                   1       1   \n",
       "3                   1       3   \n",
       "4                   1       1   \n",
       "5                   0       3   \n",
       "\n",
       "                                                          Name     Sex   Age  \\\n",
       "PassengerId                                                                    \n",
       "1                                      Braund, Mr. Owen Harris    male  22.0   \n",
       "2            Cumings, Mrs. John Bradley (Florence Briggs Th...  female  38.0   \n",
       "3                                       Heikkinen, Miss. Laina  female  26.0   \n",
       "4                 Futrelle, Mrs. Jacques Heath (Lily May Peel)  female  35.0   \n",
       "5                                     Allen, Mr. William Henry    male  35.0   \n",
       "\n",
       "             SibSp  Parch            Ticket     Fare Cabin Embarked  \\\n",
       "PassengerId                                                           \n",
       "1                1      0         A/5 21171   7.2500   NaN        S   \n",
       "2                1      0          PC 17599  71.2833   C85        C   \n",
       "3                0      0  STON/O2. 3101282   7.9250   NaN        S   \n",
       "4                1      0            113803  53.1000  C123        S   \n",
       "5                0      0            373450   8.0500   NaN        S   \n",
       "\n",
       "               Age group  \n",
       "PassengerId               \n",
       "1            young adult  \n",
       "2                  adult  \n",
       "3            young adult  \n",
       "4                  adult  \n",
       "5                  adult  "
      ]
     },
     "execution_count": 86,
     "metadata": {},
     "output_type": "execute_result"
    }
   ],
   "source": [
    "titanic_df[\"Age group\"] = titanic_df.apply(age_cat, axis=\"columns\")\n",
    "titanic_df.head()"
   ]
  },
  {
   "cell_type": "code",
   "execution_count": 90,
   "id": "d7facdec",
   "metadata": {},
   "outputs": [
    {
     "data": {
      "text/plain": [
       "young adult    326\n",
       "adult          292\n",
       "toddler         44\n",
       "kid-teen        39\n",
       "old             13\n",
       "Name: Age group, dtype: int64"
      ]
     },
     "execution_count": 90,
     "metadata": {},
     "output_type": "execute_result"
    }
   ],
   "source": [
    "titanic_df[\"Age group\"].value_counts()"
   ]
  },
  {
   "cell_type": "code",
   "execution_count": 96,
   "id": "cc4f1076",
   "metadata": {
    "scrolled": false
   },
   "outputs": [
    {
     "data": {
      "text/html": [
       "<div>\n",
       "<style scoped>\n",
       "    .dataframe tbody tr th:only-of-type {\n",
       "        vertical-align: middle;\n",
       "    }\n",
       "\n",
       "    .dataframe tbody tr th {\n",
       "        vertical-align: top;\n",
       "    }\n",
       "\n",
       "    .dataframe thead th {\n",
       "        text-align: right;\n",
       "    }\n",
       "</style>\n",
       "<table border=\"1\" class=\"dataframe\">\n",
       "  <thead>\n",
       "    <tr style=\"text-align: right;\">\n",
       "      <th></th>\n",
       "      <th>Survived</th>\n",
       "    </tr>\n",
       "    <tr>\n",
       "      <th>Age group</th>\n",
       "      <th></th>\n",
       "    </tr>\n",
       "  </thead>\n",
       "  <tbody>\n",
       "    <tr>\n",
       "      <th>adult</th>\n",
       "      <td>0.421233</td>\n",
       "    </tr>\n",
       "    <tr>\n",
       "      <th>kid-teen</th>\n",
       "      <td>0.461538</td>\n",
       "    </tr>\n",
       "    <tr>\n",
       "      <th>old</th>\n",
       "      <td>0.076923</td>\n",
       "    </tr>\n",
       "    <tr>\n",
       "      <th>toddler</th>\n",
       "      <td>0.704545</td>\n",
       "    </tr>\n",
       "    <tr>\n",
       "      <th>young adult</th>\n",
       "      <td>0.358896</td>\n",
       "    </tr>\n",
       "  </tbody>\n",
       "</table>\n",
       "</div>"
      ],
      "text/plain": [
       "             Survived\n",
       "Age group            \n",
       "adult        0.421233\n",
       "kid-teen     0.461538\n",
       "old          0.076923\n",
       "toddler      0.704545\n",
       "young adult  0.358896"
      ]
     },
     "execution_count": 96,
     "metadata": {},
     "output_type": "execute_result"
    }
   ],
   "source": [
    "titanic_df.pivot_table(values=\"Survived\", index=\"Age group\", aggfunc='mean')"
   ]
  },
  {
   "cell_type": "code",
   "execution_count": 118,
   "id": "d303471c",
   "metadata": {
    "scrolled": true
   },
   "outputs": [
    {
     "data": {
      "text/plain": [
       "Text(0, 0.5, 'Survival Rate')"
      ]
     },
     "execution_count": 118,
     "metadata": {},
     "output_type": "execute_result"
    },
    {
     "data": {
      "image/png": "[encoded data removed]",
      "text/plain": [
       "<Figure size 432x288 with 1 Axes>"
      ]
     },
     "metadata": {
      "needs_background": "light"
     },
     "output_type": "display_data"
    }
   ],
   "source": [
    "sns.barplot(x=titanic_df[\"Age group\"], y=titanic_df[\"Survived\"], ci=None,\n",
    "            order=[\"toddler\", \"kid-teen\", \"young adult\", \"adult\", \"old\"])\n",
    "plt.ylabel(\"Survival Rate\")"
   ]
  },
  {
   "cell_type": "code",
   "execution_count": 119,
   "id": "6b65efe3",
   "metadata": {
    "scrolled": true
   },
   "outputs": [
    {
     "data": {
      "text/html": [
       "<div>\n",
       "<style scoped>\n",
       "    .dataframe tbody tr th:only-of-type {\n",
       "        vertical-align: middle;\n",
       "    }\n",
       "\n",
       "    .dataframe tbody tr th {\n",
       "        vertical-align: top;\n",
       "    }\n",
       "\n",
       "    .dataframe thead th {\n",
       "        text-align: right;\n",
       "    }\n",
       "</style>\n",
       "<table border=\"1\" class=\"dataframe\">\n",
       "  <thead>\n",
       "    <tr style=\"text-align: right;\">\n",
       "      <th>Sex</th>\n",
       "      <th>female</th>\n",
       "      <th>male</th>\n",
       "    </tr>\n",
       "    <tr>\n",
       "      <th>Age group</th>\n",
       "      <th></th>\n",
       "      <th></th>\n",
       "    </tr>\n",
       "  </thead>\n",
       "  <tbody>\n",
       "    <tr>\n",
       "      <th>adult</th>\n",
       "      <td>0.805825</td>\n",
       "      <td>0.211640</td>\n",
       "    </tr>\n",
       "    <tr>\n",
       "      <th>kid-teen</th>\n",
       "      <td>0.545455</td>\n",
       "      <td>0.352941</td>\n",
       "    </tr>\n",
       "    <tr>\n",
       "      <th>old</th>\n",
       "      <td>NaN</td>\n",
       "      <td>0.076923</td>\n",
       "    </tr>\n",
       "    <tr>\n",
       "      <th>toddler</th>\n",
       "      <td>0.761905</td>\n",
       "      <td>0.652174</td>\n",
       "    </tr>\n",
       "    <tr>\n",
       "      <th>young adult</th>\n",
       "      <td>0.747826</td>\n",
       "      <td>0.146919</td>\n",
       "    </tr>\n",
       "  </tbody>\n",
       "</table>\n",
       "</div>"
      ],
      "text/plain": [
       "Sex            female      male\n",
       "Age group                      \n",
       "adult        0.805825  0.211640\n",
       "kid-teen     0.545455  0.352941\n",
       "old               NaN  0.076923\n",
       "toddler      0.761905  0.652174\n",
       "young adult  0.747826  0.146919"
      ]
     },
     "execution_count": 119,
     "metadata": {},
     "output_type": "execute_result"
    }
   ],
   "source": [
    "titanic_df.pivot_table(values=\"Survived\", index=\"Age group\", columns=\"Sex\", aggfunc='mean')"
   ]
  },
  {
   "cell_type": "code",
   "execution_count": 136,
   "id": "b2c5689c",
   "metadata": {
    "scrolled": false
   },
   "outputs": [
    {
     "data": {
      "text/plain": [
       "<matplotlib.legend.Legend at 0x1b4820c7ee0>"
      ]
     },
     "execution_count": 136,
     "metadata": {},
     "output_type": "execute_result"
    },
    {
     "data": {
      "image/png": "[encoded data removed]",
      "text/plain": [
       "<Figure size 504x288 with 1 Axes>"
      ]
     },
     "metadata": {
      "needs_background": "light"
     },
     "output_type": "display_data"
    }
   ],
   "source": [
    "plt.figure(figsize=(7,4))\n",
    "sns.barplot(x=titanic_df[\"Age group\"], y=titanic_df[\"Survived\"], hue=titanic_df[\"Sex\"], ci=None,\n",
    "            order=[\"toddler\", \"kid-teen\", \"young adult\", \"adult\", \"old\"])\n",
    "plt.ylabel(\"Survival Rate\")\n",
    "plt.legend(loc=\"upper right\")\n"
   ]
  },
  {
   "cell_type": "code",
   "execution_count": 156,
   "id": "d4125fc4",
   "metadata": {},
   "outputs": [],
   "source": [
    "titanic_males = titanic_df[titanic_df[\"Sex\"] == 'male']"
   ]
  },
  {
   "cell_type": "code",
   "execution_count": 159,
   "id": "2d09d0ba",
   "metadata": {
    "scrolled": true
   },
   "outputs": [
    {
     "data": {
      "text/plain": [
       "<AxesSubplot:xlabel='Age', ylabel='Count'>"
      ]
     },
     "execution_count": 159,
     "metadata": {},
     "output_type": "execute_result"
    },
    {
     "data": {
      "image/png": "[encoded data removed]",
      "text/plain": [
       "<Figure size 432x288 with 1 Axes>"
      ]
     },
     "metadata": {
      "needs_background": "light"
     },
     "output_type": "display_data"
    }
   ],
   "source": [
    "sns.histplot(data=titanic_males, x='Age', hue='Survived', binwidth=5)"
   ]
  },
  {
   "cell_type": "code",
   "execution_count": 160,
   "id": "c00372aa",
   "metadata": {
    "scrolled": true
   },
   "outputs": [
    {
     "data": {
      "text/plain": [
       "<AxesSubplot:xlabel='Age', ylabel='Count'>"
      ]
     },
     "execution_count": 160,
     "metadata": {},
     "output_type": "execute_result"
    },
    {
     "data": {
      "image/png": "[encoded data removed]",
      "text/plain": [
       "<Figure size 432x288 with 1 Axes>"
      ]
     },
     "metadata": {
      "needs_background": "light"
     },
     "output_type": "display_data"
    }
   ],
   "source": [
    "titanic_females = titanic_df[titanic_df[\"Sex\"] == 'female']\n",
    "sns.histplot(data=titanic_females, x='Age', hue='Survived', binwidth=5)"
   ]
  },
  {
   "cell_type": "code",
   "execution_count": 161,
   "id": "78ed063a",
   "metadata": {},
   "outputs": [],
   "source": [
    "def age_cat_b(row):\n",
    "    curr_row = row[4]\n",
    "    if curr_row <= 5:\n",
    "        return \"toddler\"\n",
    "    elif 5 < curr_row <= 15:\n",
    "        return \"kid-teen\"\n",
    "    elif curr_row > 15:\n",
    "        return \"adult\""
   ]
  },
  {
   "cell_type": "code",
   "execution_count": 162,
   "id": "59debda9",
   "metadata": {},
   "outputs": [
    {
     "data": {
      "text/html": [
       "<div>\n",
       "<style scoped>\n",
       "    .dataframe tbody tr th:only-of-type {\n",
       "        vertical-align: middle;\n",
       "    }\n",
       "\n",
       "    .dataframe tbody tr th {\n",
       "        vertical-align: top;\n",
       "    }\n",
       "\n",
       "    .dataframe thead th {\n",
       "        text-align: right;\n",
       "    }\n",
       "</style>\n",
       "<table border=\"1\" class=\"dataframe\">\n",
       "  <thead>\n",
       "    <tr style=\"text-align: right;\">\n",
       "      <th></th>\n",
       "      <th>Survived</th>\n",
       "      <th>Pclass</th>\n",
       "      <th>Name</th>\n",
       "      <th>Sex</th>\n",
       "      <th>Age</th>\n",
       "      <th>SibSp</th>\n",
       "      <th>Parch</th>\n",
       "      <th>Ticket</th>\n",
       "      <th>Fare</th>\n",
       "      <th>Cabin</th>\n",
       "      <th>Embarked</th>\n",
       "      <th>Age group</th>\n",
       "      <th>Age group b</th>\n",
       "    </tr>\n",
       "    <tr>\n",
       "      <th>PassengerId</th>\n",
       "      <th></th>\n",
       "      <th></th>\n",
       "      <th></th>\n",
       "      <th></th>\n",
       "      <th></th>\n",
       "      <th></th>\n",
       "      <th></th>\n",
       "      <th></th>\n",
       "      <th></th>\n",
       "      <th></th>\n",
       "      <th></th>\n",
       "      <th></th>\n",
       "      <th></th>\n",
       "    </tr>\n",
       "  </thead>\n",
       "  <tbody>\n",
       "    <tr>\n",
       "      <th>1</th>\n",
       "      <td>0</td>\n",
       "      <td>3</td>\n",
       "      <td>Braund, Mr. Owen Harris</td>\n",
       "      <td>male</td>\n",
       "      <td>22.0</td>\n",
       "      <td>1</td>\n",
       "      <td>0</td>\n",
       "      <td>A/5 21171</td>\n",
       "      <td>7.2500</td>\n",
       "      <td>NaN</td>\n",
       "      <td>S</td>\n",
       "      <td>young adult</td>\n",
       "      <td>adult</td>\n",
       "    </tr>\n",
       "    <tr>\n",
       "      <th>2</th>\n",
       "      <td>1</td>\n",
       "      <td>1</td>\n",
       "      <td>Cumings, Mrs. John Bradley (Florence Briggs Th...</td>\n",
       "      <td>female</td>\n",
       "      <td>38.0</td>\n",
       "      <td>1</td>\n",
       "      <td>0</td>\n",
       "      <td>PC 17599</td>\n",
       "      <td>71.2833</td>\n",
       "      <td>C85</td>\n",
       "      <td>C</td>\n",
       "      <td>adult</td>\n",
       "      <td>adult</td>\n",
       "    </tr>\n",
       "    <tr>\n",
       "      <th>3</th>\n",
       "      <td>1</td>\n",
       "      <td>3</td>\n",
       "      <td>Heikkinen, Miss. Laina</td>\n",
       "      <td>female</td>\n",
       "      <td>26.0</td>\n",
       "      <td>0</td>\n",
       "      <td>0</td>\n",
       "      <td>STON/O2. 3101282</td>\n",
       "      <td>7.9250</td>\n",
       "      <td>NaN</td>\n",
       "      <td>S</td>\n",
       "      <td>young adult</td>\n",
       "      <td>adult</td>\n",
       "    </tr>\n",
       "    <tr>\n",
       "      <th>4</th>\n",
       "      <td>1</td>\n",
       "      <td>1</td>\n",
       "      <td>Futrelle, Mrs. Jacques Heath (Lily May Peel)</td>\n",
       "      <td>female</td>\n",
       "      <td>35.0</td>\n",
       "      <td>1</td>\n",
       "      <td>0</td>\n",
       "      <td>113803</td>\n",
       "      <td>53.1000</td>\n",
       "      <td>C123</td>\n",
       "      <td>S</td>\n",
       "      <td>adult</td>\n",
       "      <td>adult</td>\n",
       "    </tr>\n",
       "    <tr>\n",
       "      <th>5</th>\n",
       "      <td>0</td>\n",
       "      <td>3</td>\n",
       "      <td>Allen, Mr. William Henry</td>\n",
       "      <td>male</td>\n",
       "      <td>35.0</td>\n",
       "      <td>0</td>\n",
       "      <td>0</td>\n",
       "      <td>373450</td>\n",
       "      <td>8.0500</td>\n",
       "      <td>NaN</td>\n",
       "      <td>S</td>\n",
       "      <td>adult</td>\n",
       "      <td>adult</td>\n",
       "    </tr>\n",
       "  </tbody>\n",
       "</table>\n",
       "</div>"
      ],
      "text/plain": [
       "             Survived  Pclass  \\\n",
       "PassengerId                     \n",
       "1                   0       3   \n",
       "2                   1       1   \n",
       "3                   1       3   \n",
       "4                   1       1   \n",
       "5                   0       3   \n",
       "\n",
       "                                                          Name     Sex   Age  \\\n",
       "PassengerId                                                                    \n",
       "1                                      Braund, Mr. Owen Harris    male  22.0   \n",
       "2            Cumings, Mrs. John Bradley (Florence Briggs Th...  female  38.0   \n",
       "3                                       Heikkinen, Miss. Laina  female  26.0   \n",
       "4                 Futrelle, Mrs. Jacques Heath (Lily May Peel)  female  35.0   \n",
       "5                                     Allen, Mr. William Henry    male  35.0   \n",
       "\n",
       "             SibSp  Parch            Ticket     Fare Cabin Embarked  \\\n",
       "PassengerId                                                           \n",
       "1                1      0         A/5 21171   7.2500   NaN        S   \n",
       "2                1      0          PC 17599  71.2833   C85        C   \n",
       "3                0      0  STON/O2. 3101282   7.9250   NaN        S   \n",
       "4                1      0            113803  53.1000  C123        S   \n",
       "5                0      0            373450   8.0500   NaN        S   \n",
       "\n",
       "               Age group Age group b  \n",
       "PassengerId                           \n",
       "1            young adult       adult  \n",
       "2                  adult       adult  \n",
       "3            young adult       adult  \n",
       "4                  adult       adult  \n",
       "5                  adult       adult  "
      ]
     },
     "execution_count": 162,
     "metadata": {},
     "output_type": "execute_result"
    }
   ],
   "source": [
    "titanic_df[\"Age group b\"] = titanic_df.apply(age_cat_b, axis=\"columns\")\n",
    "titanic_df.head()"
   ]
  },
  {
   "cell_type": "code",
   "execution_count": 163,
   "id": "9f55f8b2",
   "metadata": {},
   "outputs": [
    {
     "data": {
      "text/html": [
       "<div>\n",
       "<style scoped>\n",
       "    .dataframe tbody tr th:only-of-type {\n",
       "        vertical-align: middle;\n",
       "    }\n",
       "\n",
       "    .dataframe tbody tr th {\n",
       "        vertical-align: top;\n",
       "    }\n",
       "\n",
       "    .dataframe thead th {\n",
       "        text-align: right;\n",
       "    }\n",
       "</style>\n",
       "<table border=\"1\" class=\"dataframe\">\n",
       "  <thead>\n",
       "    <tr style=\"text-align: right;\">\n",
       "      <th>Sex</th>\n",
       "      <th>female</th>\n",
       "      <th>male</th>\n",
       "    </tr>\n",
       "    <tr>\n",
       "      <th>Age group b</th>\n",
       "      <th></th>\n",
       "      <th></th>\n",
       "    </tr>\n",
       "  </thead>\n",
       "  <tbody>\n",
       "    <tr>\n",
       "      <th>adult</th>\n",
       "      <td>0.775229</td>\n",
       "      <td>0.174334</td>\n",
       "    </tr>\n",
       "    <tr>\n",
       "      <th>kid-teen</th>\n",
       "      <td>0.545455</td>\n",
       "      <td>0.352941</td>\n",
       "    </tr>\n",
       "    <tr>\n",
       "      <th>toddler</th>\n",
       "      <td>0.761905</td>\n",
       "      <td>0.652174</td>\n",
       "    </tr>\n",
       "  </tbody>\n",
       "</table>\n",
       "</div>"
      ],
      "text/plain": [
       "Sex            female      male\n",
       "Age group b                    \n",
       "adult        0.775229  0.174334\n",
       "kid-teen     0.545455  0.352941\n",
       "toddler      0.761905  0.652174"
      ]
     },
     "execution_count": 163,
     "metadata": {},
     "output_type": "execute_result"
    }
   ],
   "source": [
    "titanic_df.pivot_table(values=\"Survived\", index=\"Age group b\", columns=\"Sex\", aggfunc='mean')"
   ]
  },
  {
   "cell_type": "markdown",
   "id": "24966f51-a887-40f5-8133-f45ff2f065fb",
   "metadata": {},
   "source": [
    "### Hypothesis 5:"
   ]
  },
  {
   "cell_type": "markdown",
   "id": "e85dc4ff-1866-4ace-b978-67e2f7f02005",
   "metadata": {},
   "source": [
    "Description of test and the hypothesis:\n",
    "- Those who travelled alone were less likely to survive.\n",
    "\n",
    "Results and conclusions:\n",
    "> ..."
   ]
  },
  {
   "cell_type": "code",
   "execution_count": 97,
   "id": "df95d214-6e66-49b7-9f72-e0111a96af4c",
   "metadata": {
    "scrolled": true
   },
   "outputs": [
    {
     "data": {
      "text/plain": [
       "0    608\n",
       "1    209\n",
       "2     28\n",
       "4     18\n",
       "3     16\n",
       "8      7\n",
       "5      5\n",
       "Name: SibSp, dtype: int64"
      ]
     },
     "execution_count": 97,
     "metadata": {},
     "output_type": "execute_result"
    }
   ],
   "source": [
    "titanic_df[\"SibSp\"].value_counts()"
   ]
  },
  {
   "cell_type": "code",
   "execution_count": 98,
   "id": "afb75bc5",
   "metadata": {
    "scrolled": true
   },
   "outputs": [
    {
     "data": {
      "text/html": [
       "<div>\n",
       "<style scoped>\n",
       "    .dataframe tbody tr th:only-of-type {\n",
       "        vertical-align: middle;\n",
       "    }\n",
       "\n",
       "    .dataframe tbody tr th {\n",
       "        vertical-align: top;\n",
       "    }\n",
       "\n",
       "    .dataframe thead th {\n",
       "        text-align: right;\n",
       "    }\n",
       "</style>\n",
       "<table border=\"1\" class=\"dataframe\">\n",
       "  <thead>\n",
       "    <tr style=\"text-align: right;\">\n",
       "      <th></th>\n",
       "      <th>Survived</th>\n",
       "    </tr>\n",
       "    <tr>\n",
       "      <th>SibSp</th>\n",
       "      <th></th>\n",
       "    </tr>\n",
       "  </thead>\n",
       "  <tbody>\n",
       "    <tr>\n",
       "      <th>0</th>\n",
       "      <td>0.345395</td>\n",
       "    </tr>\n",
       "    <tr>\n",
       "      <th>1</th>\n",
       "      <td>0.535885</td>\n",
       "    </tr>\n",
       "    <tr>\n",
       "      <th>2</th>\n",
       "      <td>0.464286</td>\n",
       "    </tr>\n",
       "    <tr>\n",
       "      <th>3</th>\n",
       "      <td>0.250000</td>\n",
       "    </tr>\n",
       "    <tr>\n",
       "      <th>4</th>\n",
       "      <td>0.166667</td>\n",
       "    </tr>\n",
       "    <tr>\n",
       "      <th>5</th>\n",
       "      <td>0.000000</td>\n",
       "    </tr>\n",
       "    <tr>\n",
       "      <th>8</th>\n",
       "      <td>0.000000</td>\n",
       "    </tr>\n",
       "  </tbody>\n",
       "</table>\n",
       "</div>"
      ],
      "text/plain": [
       "       Survived\n",
       "SibSp          \n",
       "0      0.345395\n",
       "1      0.535885\n",
       "2      0.464286\n",
       "3      0.250000\n",
       "4      0.166667\n",
       "5      0.000000\n",
       "8      0.000000"
      ]
     },
     "execution_count": 98,
     "metadata": {},
     "output_type": "execute_result"
    }
   ],
   "source": [
    "titanic_df.pivot_table(values=\"Survived\", index=\"SibSp\", aggfunc='mean')"
   ]
  },
  {
   "cell_type": "code",
   "execution_count": 99,
   "id": "ded90347",
   "metadata": {
    "scrolled": true
   },
   "outputs": [
    {
     "data": {
      "text/plain": [
       "0    678\n",
       "1    118\n",
       "2     80\n",
       "3      5\n",
       "5      5\n",
       "4      4\n",
       "6      1\n",
       "Name: Parch, dtype: int64"
      ]
     },
     "execution_count": 99,
     "metadata": {},
     "output_type": "execute_result"
    }
   ],
   "source": [
    "titanic_df[\"Parch\"].value_counts()"
   ]
  },
  {
   "cell_type": "code",
   "execution_count": 100,
   "id": "bb6bd1bf",
   "metadata": {
    "scrolled": true
   },
   "outputs": [
    {
     "data": {
      "text/html": [
       "<div>\n",
       "<style scoped>\n",
       "    .dataframe tbody tr th:only-of-type {\n",
       "        vertical-align: middle;\n",
       "    }\n",
       "\n",
       "    .dataframe tbody tr th {\n",
       "        vertical-align: top;\n",
       "    }\n",
       "\n",
       "    .dataframe thead th {\n",
       "        text-align: right;\n",
       "    }\n",
       "</style>\n",
       "<table border=\"1\" class=\"dataframe\">\n",
       "  <thead>\n",
       "    <tr style=\"text-align: right;\">\n",
       "      <th></th>\n",
       "      <th>Survived</th>\n",
       "    </tr>\n",
       "    <tr>\n",
       "      <th>Parch</th>\n",
       "      <th></th>\n",
       "    </tr>\n",
       "  </thead>\n",
       "  <tbody>\n",
       "    <tr>\n",
       "      <th>0</th>\n",
       "      <td>0.343658</td>\n",
       "    </tr>\n",
       "    <tr>\n",
       "      <th>1</th>\n",
       "      <td>0.550847</td>\n",
       "    </tr>\n",
       "    <tr>\n",
       "      <th>2</th>\n",
       "      <td>0.500000</td>\n",
       "    </tr>\n",
       "    <tr>\n",
       "      <th>3</th>\n",
       "      <td>0.600000</td>\n",
       "    </tr>\n",
       "    <tr>\n",
       "      <th>4</th>\n",
       "      <td>0.000000</td>\n",
       "    </tr>\n",
       "    <tr>\n",
       "      <th>5</th>\n",
       "      <td>0.200000</td>\n",
       "    </tr>\n",
       "    <tr>\n",
       "      <th>6</th>\n",
       "      <td>0.000000</td>\n",
       "    </tr>\n",
       "  </tbody>\n",
       "</table>\n",
       "</div>"
      ],
      "text/plain": [
       "       Survived\n",
       "Parch          \n",
       "0      0.343658\n",
       "1      0.550847\n",
       "2      0.500000\n",
       "3      0.600000\n",
       "4      0.000000\n",
       "5      0.200000\n",
       "6      0.000000"
      ]
     },
     "execution_count": 100,
     "metadata": {},
     "output_type": "execute_result"
    }
   ],
   "source": [
    "titanic_df.pivot_table(values=\"Survived\", index=\"Parch\", aggfunc='mean')"
   ]
  },
  {
   "cell_type": "code",
   "execution_count": 148,
   "id": "237e27d2",
   "metadata": {},
   "outputs": [
    {
     "data": {
      "text/html": [
       "<div>\n",
       "<style scoped>\n",
       "    .dataframe tbody tr th:only-of-type {\n",
       "        vertical-align: middle;\n",
       "    }\n",
       "\n",
       "    .dataframe tbody tr th {\n",
       "        vertical-align: top;\n",
       "    }\n",
       "\n",
       "    .dataframe thead th {\n",
       "        text-align: right;\n",
       "    }\n",
       "</style>\n",
       "<table border=\"1\" class=\"dataframe\">\n",
       "  <thead>\n",
       "    <tr style=\"text-align: right;\">\n",
       "      <th></th>\n",
       "      <th>Survived</th>\n",
       "      <th>Pclass</th>\n",
       "      <th>Age</th>\n",
       "      <th>SibSp</th>\n",
       "      <th>Parch</th>\n",
       "      <th>Fare</th>\n",
       "    </tr>\n",
       "  </thead>\n",
       "  <tbody>\n",
       "    <tr>\n",
       "      <th>Survived</th>\n",
       "      <td>1.000000</td>\n",
       "      <td>-0.323533</td>\n",
       "      <td>-0.043385</td>\n",
       "      <td>0.085915</td>\n",
       "      <td>0.133933</td>\n",
       "      <td>0.266229</td>\n",
       "    </tr>\n",
       "    <tr>\n",
       "      <th>Pclass</th>\n",
       "      <td>-0.323533</td>\n",
       "      <td>1.000000</td>\n",
       "      <td>-0.286081</td>\n",
       "      <td>-0.039552</td>\n",
       "      <td>-0.021019</td>\n",
       "      <td>-0.573531</td>\n",
       "    </tr>\n",
       "    <tr>\n",
       "      <th>Age</th>\n",
       "      <td>-0.043385</td>\n",
       "      <td>-0.286081</td>\n",
       "      <td>1.000000</td>\n",
       "      <td>-0.142746</td>\n",
       "      <td>-0.200112</td>\n",
       "      <td>0.093249</td>\n",
       "    </tr>\n",
       "    <tr>\n",
       "      <th>SibSp</th>\n",
       "      <td>0.085915</td>\n",
       "      <td>-0.039552</td>\n",
       "      <td>-0.142746</td>\n",
       "      <td>1.000000</td>\n",
       "      <td>0.425241</td>\n",
       "      <td>0.358262</td>\n",
       "    </tr>\n",
       "    <tr>\n",
       "      <th>Parch</th>\n",
       "      <td>0.133933</td>\n",
       "      <td>-0.021019</td>\n",
       "      <td>-0.200112</td>\n",
       "      <td>0.425241</td>\n",
       "      <td>1.000000</td>\n",
       "      <td>0.330360</td>\n",
       "    </tr>\n",
       "    <tr>\n",
       "      <th>Fare</th>\n",
       "      <td>0.266229</td>\n",
       "      <td>-0.573531</td>\n",
       "      <td>0.093249</td>\n",
       "      <td>0.358262</td>\n",
       "      <td>0.330360</td>\n",
       "      <td>1.000000</td>\n",
       "    </tr>\n",
       "  </tbody>\n",
       "</table>\n",
       "</div>"
      ],
      "text/plain": [
       "          Survived    Pclass       Age     SibSp     Parch      Fare\n",
       "Survived  1.000000 -0.323533 -0.043385  0.085915  0.133933  0.266229\n",
       "Pclass   -0.323533  1.000000 -0.286081 -0.039552 -0.021019 -0.573531\n",
       "Age      -0.043385 -0.286081  1.000000 -0.142746 -0.200112  0.093249\n",
       "SibSp     0.085915 -0.039552 -0.142746  1.000000  0.425241  0.358262\n",
       "Parch     0.133933 -0.021019 -0.200112  0.425241  1.000000  0.330360\n",
       "Fare      0.266229 -0.573531  0.093249  0.358262  0.330360  1.000000"
      ]
     },
     "execution_count": 148,
     "metadata": {},
     "output_type": "execute_result"
    }
   ],
   "source": [
    "titanic_df.corr(method='kendall')"
   ]
  },
  {
   "cell_type": "code",
   "execution_count": 149,
   "id": "1faf4347",
   "metadata": {},
   "outputs": [
    {
     "data": {
      "text/html": [
       "<div>\n",
       "<style scoped>\n",
       "    .dataframe tbody tr th:only-of-type {\n",
       "        vertical-align: middle;\n",
       "    }\n",
       "\n",
       "    .dataframe tbody tr th {\n",
       "        vertical-align: top;\n",
       "    }\n",
       "\n",
       "    .dataframe thead th {\n",
       "        text-align: right;\n",
       "    }\n",
       "</style>\n",
       "<table border=\"1\" class=\"dataframe\">\n",
       "  <thead>\n",
       "    <tr style=\"text-align: right;\">\n",
       "      <th></th>\n",
       "      <th>Survived</th>\n",
       "      <th>Pclass</th>\n",
       "      <th>Age</th>\n",
       "      <th>SibSp</th>\n",
       "      <th>Parch</th>\n",
       "      <th>Fare</th>\n",
       "    </tr>\n",
       "  </thead>\n",
       "  <tbody>\n",
       "    <tr>\n",
       "      <th>Survived</th>\n",
       "      <td>1.000000</td>\n",
       "      <td>-0.308879</td>\n",
       "      <td>-0.079398</td>\n",
       "      <td>0.161260</td>\n",
       "      <td>0.211652</td>\n",
       "      <td>0.300586</td>\n",
       "    </tr>\n",
       "    <tr>\n",
       "      <th>Pclass</th>\n",
       "      <td>-0.308879</td>\n",
       "      <td>1.000000</td>\n",
       "      <td>-0.262209</td>\n",
       "      <td>-0.127502</td>\n",
       "      <td>-0.094019</td>\n",
       "      <td>-0.625502</td>\n",
       "    </tr>\n",
       "    <tr>\n",
       "      <th>Age</th>\n",
       "      <td>-0.079398</td>\n",
       "      <td>-0.262209</td>\n",
       "      <td>1.000000</td>\n",
       "      <td>-0.040745</td>\n",
       "      <td>-0.117490</td>\n",
       "      <td>0.141113</td>\n",
       "    </tr>\n",
       "    <tr>\n",
       "      <th>SibSp</th>\n",
       "      <td>0.161260</td>\n",
       "      <td>-0.127502</td>\n",
       "      <td>-0.040745</td>\n",
       "      <td>1.000000</td>\n",
       "      <td>0.312922</td>\n",
       "      <td>0.331980</td>\n",
       "    </tr>\n",
       "    <tr>\n",
       "      <th>Parch</th>\n",
       "      <td>0.211652</td>\n",
       "      <td>-0.094019</td>\n",
       "      <td>-0.117490</td>\n",
       "      <td>0.312922</td>\n",
       "      <td>1.000000</td>\n",
       "      <td>0.297141</td>\n",
       "    </tr>\n",
       "    <tr>\n",
       "      <th>Fare</th>\n",
       "      <td>0.300586</td>\n",
       "      <td>-0.625502</td>\n",
       "      <td>0.141113</td>\n",
       "      <td>0.331980</td>\n",
       "      <td>0.297141</td>\n",
       "      <td>1.000000</td>\n",
       "    </tr>\n",
       "  </tbody>\n",
       "</table>\n",
       "</div>"
      ],
      "text/plain": [
       "          Survived    Pclass       Age     SibSp     Parch      Fare\n",
       "Survived  1.000000 -0.308879 -0.079398  0.161260  0.211652  0.300586\n",
       "Pclass   -0.308879  1.000000 -0.262209 -0.127502 -0.094019 -0.625502\n",
       "Age      -0.079398 -0.262209  1.000000 -0.040745 -0.117490  0.141113\n",
       "SibSp     0.161260 -0.127502 -0.040745  1.000000  0.312922  0.331980\n",
       "Parch     0.211652 -0.094019 -0.117490  0.312922  1.000000  0.297141\n",
       "Fare      0.300586 -0.625502  0.141113  0.331980  0.297141  1.000000"
      ]
     },
     "execution_count": 149,
     "metadata": {},
     "output_type": "execute_result"
    }
   ],
   "source": [
    "sibsp_mask.corr(method='kendall')"
   ]
  },
  {
   "cell_type": "code",
   "execution_count": 150,
   "id": "2970aa37",
   "metadata": {
    "scrolled": true
   },
   "outputs": [
    {
     "data": {
      "text/html": [
       "<div>\n",
       "<style scoped>\n",
       "    .dataframe tbody tr th:only-of-type {\n",
       "        vertical-align: middle;\n",
       "    }\n",
       "\n",
       "    .dataframe tbody tr th {\n",
       "        vertical-align: top;\n",
       "    }\n",
       "\n",
       "    .dataframe thead th {\n",
       "        text-align: right;\n",
       "    }\n",
       "</style>\n",
       "<table border=\"1\" class=\"dataframe\">\n",
       "  <thead>\n",
       "    <tr style=\"text-align: right;\">\n",
       "      <th></th>\n",
       "      <th>Survived</th>\n",
       "      <th>Pclass</th>\n",
       "      <th>Age</th>\n",
       "      <th>SibSp</th>\n",
       "      <th>Parch</th>\n",
       "      <th>Fare</th>\n",
       "    </tr>\n",
       "  </thead>\n",
       "  <tbody>\n",
       "    <tr>\n",
       "      <th>Survived</th>\n",
       "      <td>1.000000</td>\n",
       "      <td>-0.322667</td>\n",
       "      <td>-0.037730</td>\n",
       "      <td>0.090163</td>\n",
       "      <td>0.152040</td>\n",
       "      <td>0.275352</td>\n",
       "    </tr>\n",
       "    <tr>\n",
       "      <th>Pclass</th>\n",
       "      <td>-0.322667</td>\n",
       "      <td>1.000000</td>\n",
       "      <td>-0.297201</td>\n",
       "      <td>-0.044096</td>\n",
       "      <td>-0.042091</td>\n",
       "      <td>-0.586252</td>\n",
       "    </tr>\n",
       "    <tr>\n",
       "      <th>Age</th>\n",
       "      <td>-0.037730</td>\n",
       "      <td>-0.297201</td>\n",
       "      <td>1.000000</td>\n",
       "      <td>-0.157517</td>\n",
       "      <td>-0.242355</td>\n",
       "      <td>0.083995</td>\n",
       "    </tr>\n",
       "    <tr>\n",
       "      <th>SibSp</th>\n",
       "      <td>0.090163</td>\n",
       "      <td>-0.044096</td>\n",
       "      <td>-0.157517</td>\n",
       "      <td>1.000000</td>\n",
       "      <td>0.424193</td>\n",
       "      <td>0.355974</td>\n",
       "    </tr>\n",
       "    <tr>\n",
       "      <th>Parch</th>\n",
       "      <td>0.152040</td>\n",
       "      <td>-0.042091</td>\n",
       "      <td>-0.242355</td>\n",
       "      <td>0.424193</td>\n",
       "      <td>1.000000</td>\n",
       "      <td>0.324923</td>\n",
       "    </tr>\n",
       "    <tr>\n",
       "      <th>Fare</th>\n",
       "      <td>0.275352</td>\n",
       "      <td>-0.586252</td>\n",
       "      <td>0.083995</td>\n",
       "      <td>0.355974</td>\n",
       "      <td>0.324923</td>\n",
       "      <td>1.000000</td>\n",
       "    </tr>\n",
       "  </tbody>\n",
       "</table>\n",
       "</div>"
      ],
      "text/plain": [
       "          Survived    Pclass       Age     SibSp     Parch      Fare\n",
       "Survived  1.000000 -0.322667 -0.037730  0.090163  0.152040  0.275352\n",
       "Pclass   -0.322667  1.000000 -0.297201 -0.044096 -0.042091 -0.586252\n",
       "Age      -0.037730 -0.297201  1.000000 -0.157517 -0.242355  0.083995\n",
       "SibSp     0.090163 -0.044096 -0.157517  1.000000  0.424193  0.355974\n",
       "Parch     0.152040 -0.042091 -0.242355  0.424193  1.000000  0.324923\n",
       "Fare      0.275352 -0.586252  0.083995  0.355974  0.324923  1.000000"
      ]
     },
     "execution_count": 150,
     "metadata": {},
     "output_type": "execute_result"
    }
   ],
   "source": [
    "parch_mask.corr(method='kendall')"
   ]
  }
 ],
 "metadata": {
  "kernelspec": {
   "display_name": "Python 3",
   "language": "python",
   "name": "python3"
  },
  "language_info": {
   "codemirror_mode": {
    "name": "ipython",
    "version": 3
   },
   "file_extension": ".py",
   "mimetype": "text/x-python",
   "name": "python",
   "nbconvert_exporter": "python",
   "pygments_lexer": "ipython3",
   "version": "3.8.8"
  }
 },
 "nbformat": 4,
 "nbformat_minor": 5
}
