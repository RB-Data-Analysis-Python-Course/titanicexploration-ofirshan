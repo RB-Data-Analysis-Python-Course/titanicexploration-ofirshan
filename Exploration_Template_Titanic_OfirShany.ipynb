{
 "cells": [
  {
   "cell_type": "markdown",
   "id": "5290022f-83d2-4dd8-aa3c-c481d63f268d",
   "metadata": {},
   "source": [
    "## Intro"
   ]
  },
  {
   "cell_type": "markdown",
   "id": "137cb431-9216-41d1-a1d5-acfebfedb006",
   "metadata": {},
   "source": [
    "<div class=\"alert alert-success\">\n",
    "This section is up to you and not necessary. \n",
    "\n",
    "I would recommend specifing the date you have done the exploration.\n",
    "\n",
    "in addition you can specify possible problems and doubts regarding both your conclusions and the data itself in this section or in the Coclusions section. (such as biases in data, missing values, small number of samples to support some conclusion, etc)"
   ]
  },
  {
   "cell_type": "markdown",
   "id": "1c7edb86-09cb-4807-98e5-71095e3c7de4",
   "metadata": {},
   "source": [
    "## Conclusions"
   ]
  },
  {
   "cell_type": "markdown",
   "id": "9d0e95e3-a4ac-41b7-966d-e81cbc07a4dc",
   "metadata": {},
   "source": [
    "<div class=\"alert alert-success\">\n",
    "\n",
    "**A List of all of your conclusions from the Exploration**\n",
    "    \n",
    "No need to specify the actual tests and to explain why you have concluded these things. if the reader wants to deep dive into your tests he will be able to do so further down the notebook.\n",
    "\n",
    "having said that, **ALWAYS** specify possible problems and doubts regarding both your conclusions and the data itself in this section if they were not mentioned in the Intro! (such as biases in data, missing values, small number of samples to support some conclusion, etc)\n",
    "\n",
    "</div>"
   ]
  },
  {
   "cell_type": "markdown",
   "id": "dabd1072-6460-45ff-b8b0-9f7e52b4c118",
   "metadata": {},
   "source": [
    "1. ....\n",
    "2. ....\n",
    "\n"
   ]
  },
  {
   "cell_type": "markdown",
   "id": "445bd190-2247-4d82-939f-08a82fca0cf0",
   "metadata": {},
   "source": [
    "## Hypothesis & Tests"
   ]
  },
  {
   "cell_type": "markdown",
   "id": "3fd497ed-d0ca-4f61-9821-0d27dd028619",
   "metadata": {},
   "source": [
    "<div class=\"alert alert-success\">\n",
    "\n",
    "**This section is where you list out all your assumptions and the way you have tested them.**\n",
    "\n",
    "It serves both yourself and the reader:\n",
    "1. The reader - the reader that wants to understand how you have concluded the above conclusions without deep diving into your code.\n",
    "2. Yourself - It makes it very easy to organize your thoughts and make sure you have tested everything you thought is necessary.\n",
    "\n",
    "*Keep in mind:*\n",
    "1. Understand what the data really means in \"real life\"!!\n",
    "2. Missing values!\n",
    "3. Total number of samples\n",
    "4. Distribution of features\n",
    "5. Write down all the things you have checked even if they failed - the failure itself may mean allot.\n",
    "6. Duplicates!\n",
    "\n",
    "</div>"
   ]
  },
  {
   "cell_type": "markdown",
   "id": "9a170983-12e9-42cb-b560-5c5a1f4191dc",
   "metadata": {},
   "source": [
    "1. Hypothesis 1: Ticket classes are associated with survival rates. I assume that ticket classes are mapped onto specific locations on the ship, which were directly related to the ship's sinking patterns and thus to chances of surviving. \n",
    "    * test 1: explore the distribution of ticket class.\n",
    "    * test 2: compute percentage of surviving per ticket class. \n",
    "    * plot.\n",
    " \n",
    "2. Hypothesis 2: Older age is associated with decreased survival rates.\n",
    "    * test 1: explore the distrbution of age; should it be re-grouped into a few categories, each covering a different range?\n",
    "    * test 2: compute age stats (mean, median) under the two survival indices; if I turn age to a categorical variable, then\n",
    "      compute percentage of surviving per age range. \n",
    "    * plot.\n",
    "\n",
    "3. Hypothesis 3: Passengers who travelled alone are less likely to survive.\n",
    "    * test 1: explore the distribution of 'sibsp' and 'parch'.\n",
    "    * test 2: compute percentage of surviving for 'sibsp' and 'parch' (0 vs. >0).\n",
    "    * plot.\n",
    "\n",
    "4. Hypothesis 4: Males with families were less likely to survive (i.e. sex by 'sibsp' / 'parch' interaction).\n",
    "    * test 1: explore the distribution of sex and its combination with 'sibsp' and 'parch'.\n",
    "    * test 2: compute percentage of surviving for males and females with vs. without 'sibsp' and 'parch' (0 vs. >0).\n",
    "    * plot.\n"
   ]
  },
  {
   "cell_type": "markdown",
   "id": "132ef0ab-45b8-485a-b7d6-bedf328b0483",
   "metadata": {},
   "source": [
    "## Implementation"
   ]
  },
  {
   "cell_type": "markdown",
   "id": "d20a676b-5668-4a21-ac50-9c9dad2696ce",
   "metadata": {},
   "source": [
    "### Test1"
   ]
  },
  {
   "cell_type": "markdown",
   "id": "fd7b7b61-3fb8-4684-818e-8ecf99b89e6c",
   "metadata": {},
   "source": [
    "Description of test and the hypothesis\n",
    "\n",
    "Results and conclusions:\n",
    "> ..."
   ]
  },
  {
   "cell_type": "code",
   "execution_count": null,
   "id": "67a01b8e-e91e-4a83-976d-069159d64674",
   "metadata": {},
   "outputs": [],
   "source": []
  },
  {
   "cell_type": "code",
   "execution_count": null,
   "id": "ad0a8833-0012-4eac-b127-d6795984f1dc",
   "metadata": {},
   "outputs": [],
   "source": []
  },
  {
   "cell_type": "code",
   "execution_count": null,
   "id": "20433666-8530-4915-912c-fd41a924be7c",
   "metadata": {},
   "outputs": [],
   "source": []
  },
  {
   "cell_type": "code",
   "execution_count": null,
   "id": "7ee68d09-aefa-4e56-922e-1158d419aa63",
   "metadata": {},
   "outputs": [],
   "source": []
  },
  {
   "cell_type": "markdown",
   "id": "8d46bbdf-2a5c-49c4-aae1-98c2152de870",
   "metadata": {},
   "source": [
    "### Test2"
   ]
  },
  {
   "cell_type": "markdown",
   "id": "6bd8209b-86a2-4b1a-92b7-dc30ee43e3a9",
   "metadata": {},
   "source": [
    "Description of test and the hypothesis\n",
    "\n",
    "Results and conclusions:\n",
    "> ..."
   ]
  },
  {
   "cell_type": "code",
   "execution_count": null,
   "id": "416b924a-40b7-4e8a-b435-dd57be3d1b05",
   "metadata": {},
   "outputs": [],
   "source": []
  },
  {
   "cell_type": "markdown",
   "id": "2d219732-e87e-4b1b-a674-ff53cff1393d",
   "metadata": {},
   "source": [
    "### Test3"
   ]
  },
  {
   "cell_type": "markdown",
   "id": "daaf28c9-eb11-4715-b8eb-7b4c89fa93d9",
   "metadata": {},
   "source": [
    "Description of test and the hypothesis\n",
    "\n",
    "Results and conclusions:\n",
    "> ..."
   ]
  },
  {
   "cell_type": "code",
   "execution_count": null,
   "id": "502af2e1-0a3e-4d06-9941-a4ed584883be",
   "metadata": {},
   "outputs": [],
   "source": []
  },
  {
   "cell_type": "markdown",
   "id": "24966f51-a887-40f5-8133-f45ff2f065fb",
   "metadata": {},
   "source": [
    "### Test4"
   ]
  },
  {
   "cell_type": "markdown",
   "id": "e85dc4ff-1866-4ace-b978-67e2f7f02005",
   "metadata": {},
   "source": [
    "Description of test and the hypothesis\n",
    "\n",
    "Results and conclusions:\n",
    "> ..."
   ]
  },
  {
   "cell_type": "code",
   "execution_count": null,
   "id": "df95d214-6e66-49b7-9f72-e0111a96af4c",
   "metadata": {},
   "outputs": [],
   "source": []
  }
 ],
 "metadata": {
  "kernelspec": {
   "display_name": "Python 3",
   "language": "python",
   "name": "python3"
  },
  "language_info": {
   "codemirror_mode": {
    "name": "ipython",
    "version": 3
   },
   "file_extension": ".py",
   "mimetype": "text/x-python",
   "name": "python",
   "nbconvert_exporter": "python",
   "pygments_lexer": "ipython3",
   "version": "3.8.8"
  }
 },
 "nbformat": 4,
 "nbformat_minor": 5
}
